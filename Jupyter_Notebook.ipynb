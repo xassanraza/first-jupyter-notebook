{
 "cells": [
  {
   "cell_type": "markdown",
   "metadata": {},
   "source": [
    "<center>\n",
    "    <img src=\"https://cf-courses-data.s3.us.cloud-object-storage.appdomain.cloud/IBMDeveloperSkillsNetwork-DS0105EN-SkillsNetwork/labs/Module2/images/SN_web_lightmode.png\" width=\"300\" alt=\"cognitiveclass.ai logo\">\n",
    "</center>\n"
   ]
  },
  {
   "cell_type": "markdown",
   "metadata": {
    "tags": []
   },
   "source": [
    "# MY First Notebook\n",
    "### My name is Hassan Raza. Doing IBM Tools for Data Science Course. And my LinkedIn username is https://www.linkedin.com/in/xassanraza/.\n",
    "\n",
    "## Data science libraries\n",
    "#### 1. NumPy\n",
    "#### 2. Pandas\n",
    "#### 3. Matplotlib\n",
    "#### 4. Seaborn\n",
    "#### 5. Scikit-learn\n",
    "#### 6. TensorFlow\n",
    "#### 7. Keras\n",
    "#### 8. PyTorch\n",
    "#### 9. SciPy\n",
    "\n",
    "## Data science tools\n",
    "#### 1. Jupyter Notebooks\n",
    "#### 2. RStudio\n",
    "#### 3. Anaconda\n",
    "#### 4. Watson Studio\n",
    "#### 5. SIBM Cognos Dashboard Embedded\n",
    "#### 6. Apache Hadoop\n",
    "#### 7. Apache Spark\n",
    "#### 8. Apache Kafka\n",
    "#### 9. Tableau\n",
    "#### 10. Power BI\n",
    "#### 11. KNIME\n",
    "#### 12. DataRobot\n",
    "#### 13. Amazon Web Services"
   ]
  },
  {
   "cell_type": "markdown",
   "metadata": {},
   "source": [
    "## Introducing arithmetic expression example"
   ]
  },
  {
   "cell_type": "code",
   "execution_count": 1,
   "metadata": {
    "tags": []
   },
   "outputs": [
    {
     "name": "stdout",
     "output_type": "stream",
     "text": [
      "6\n",
      "8\n"
     ]
    }
   ],
   "source": [
    "a = 2\n",
    "b = 4\n",
    "\n",
    "c = a+b\n",
    "d = a*b\n",
    "\n",
    "print(c)\n",
    "print(d)\n"
   ]
  },
  {
   "cell_type": "markdown",
   "metadata": {},
   "source": [
    "## Convert minutes to hours"
   ]
  },
  {
   "cell_type": "code",
   "execution_count": 3,
   "metadata": {
    "tags": []
   },
   "outputs": [
    {
     "name": "stdout",
     "output_type": "stream",
     "text": [
      "4.0\n"
     ]
    }
   ],
   "source": [
    "minutes = 240\n",
    "hours=minutes/60\n",
    "\n",
    "print(hours)"
   ]
  },
  {
   "cell_type": "markdown",
   "metadata": {},
   "source": [
    "## list Objectives\n",
    "#### To fimilar with jupyter notebook and with data science tools and libraries."
   ]
  },
  {
   "cell_type": "markdown",
   "metadata": {},
   "source": [
    "## Author’s name\n",
    "#### Hassan Raza\n",
    "#### LinkedIn username is https://www.linkedin.com/in/xassanraza/.\n"
   ]
  }
 ],
 "metadata": {
  "kernelspec": {
   "display_name": "Python",
   "language": "python",
   "name": "conda-env-python-py"
  },
  "language_info": {
   "codemirror_mode": {
    "name": "ipython",
    "version": 3
   },
   "file_extension": ".py",
   "mimetype": "text/x-python",
   "name": "python",
   "nbconvert_exporter": "python",
   "pygments_lexer": "ipython3",
   "version": "3.7.12"
  }
 },
 "nbformat": 4,
 "nbformat_minor": 4
}
